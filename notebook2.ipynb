{
 "cells": [
  {
   "cell_type": "code",
   "execution_count": 21,
   "id": "42b782f5",
   "metadata": {},
   "outputs": [],
   "source": [
    "import pandas as pd\n",
    "import numpy as np"
   ]
  },
  {
   "cell_type": "code",
   "execution_count": 24,
   "id": "4e05c5dc",
   "metadata": {},
   "outputs": [],
   "source": [
    "df = pd.read_csv('data/data_table/data_sheet1.csv')\n",
    "df = df.rename(columns={'Unnamed: 0': 'ranking'})\n",
    "df = df[df.columns[:25]]"
   ]
  },
  {
   "cell_type": "code",
   "execution_count": 40,
   "id": "dad928ad",
   "metadata": {},
   "outputs": [
    {
     "data": {
      "text/plain": [
       "Index(['ranking', 'each_original_data', 'ion1', 'loss1', 'loss_sign1',\n",
       "       'charge1', 'mass1', 'ion2', 'loss2', 'loss_sign2', 'charge2', 'mass2',\n",
       "       'addition_mass1', 'addition_mass2', 'ion_mass1', 'ion_mass2',\n",
       "       'correct_mass1', 'correct_mass2', 'mass_difference1',\n",
       "       'mass_difference2', 'm1+m2', '2m1+m2', 'm1+2m2', 'chosen_sum_from',\n",
       "       'chosen_sum'],\n",
       "      dtype='object')"
      ]
     },
     "execution_count": 40,
     "metadata": {},
     "output_type": "execute_result"
    }
   ],
   "source": [
    "df.columns\n"
   ]
  },
  {
   "cell_type": "code",
   "execution_count": 94,
   "id": "95890144",
   "metadata": {},
   "outputs": [],
   "source": [
    "def create_mass_conserve_line(row):\n",
    "    ion1,ion2 = row['ion1'], row['ion2']\n",
    "    loss1,loss2 = row['loss1'], row['loss2']\n",
    "    if pd.isna(loss1):\n",
    "        loss1 = ''\n",
    "    if pd.isna(loss2):\n",
    "        loss2 = ''\n",
    "        \n",
    "        \n",
    "    #print((type(ion1) == str) and (ion1[0] == 'a' and ion1[:2] != 'ai'))\n",
    "    #print((type(ion2) == str) and (ion2[0] == 'a' and ion2[:2] != 'ai')and (loss1 == '' and loss2 == ''))\n",
    "    if (type(ion1) == str) and (ion1[0] == 'a' and ion1[:2] != 'ai') and (loss1 == '' and loss2 == ''):\n",
    "        combined_loss = 'a'\n",
    "    elif (type(ion2) == str) and (ion2[0] == 'a' and ion2[:2] != 'ai') and (loss1 == '' and loss2 == ''):\n",
    "        combined_loss = 'a'\n",
    "        \n",
    "    elif loss1 != '' and loss2 != '':\n",
    "        combined_loss = loss1 + ' + ' +loss2\n",
    "\n",
    "    else:\n",
    "        combined_loss = loss1 + loss2\n",
    "    if combined_loss == '':\n",
    "        combined_loss = 'Parent'\n",
    "    return combined_loss\n"
   ]
  },
  {
   "cell_type": "code",
   "execution_count": 98,
   "id": "83022882",
   "metadata": {},
   "outputs": [],
   "source": [
    "df['conserve_line'] = df.apply(create_mass_conserve_line, axis=1)"
   ]
  },
  {
   "cell_type": "code",
   "execution_count": 143,
   "id": "1016c4ec",
   "metadata": {},
   "outputs": [],
   "source": [
    "def peptie_arrange(length):\n",
    "    result = []\n",
    "    for i in range(1, length):\n",
    "        result.append(f'b{i}y{length - i}')\n",
    "    return result\n",
    "        "
   ]
  },
  {
   "cell_type": "code",
   "execution_count": 179,
   "id": "fc140803",
   "metadata": {},
   "outputs": [],
   "source": [
    "rows = ['Parent','NH3','H2O', 'NH3 + H2O','H2O + NH3', 'a']\n",
    "columns = peptie_arrange(14)\n",
    "df['loss1_m'] = df['loss1'].fillna('')\n",
    "df['loss2_m'] = df['loss2'].fillna('')"
   ]
  },
  {
   "cell_type": "code",
   "execution_count": 180,
   "id": "2c6fdee0",
   "metadata": {},
   "outputs": [],
   "source": [
    "reuslt_df = pd.DataFrame(index=rows, columns=columns)"
   ]
  },
  {
   "cell_type": "code",
   "execution_count": 185,
   "id": "91ff1015",
   "metadata": {},
   "outputs": [
    {
     "name": "stdout",
     "output_type": "stream",
     "text": [
      "Parent\n",
      "Parent\n",
      "Parent\n",
      "NH3\n",
      "NH3\n",
      "NH3\n",
      "NH3\n",
      "NH3\n",
      "a\n",
      "NH3\n",
      "H2O + NH3\n",
      "Parent\n"
     ]
    }
   ],
   "source": [
    "for index, each_row in df.iterrows():\n",
    "    the_column = -1\n",
    "    if (type(each_row['ion1']) == str and type(each_row['ion2']) == str):\n",
    "        the_column = [each_row['ion1'], each_row['ion2']]\n",
    "        the_column.sort()\n",
    "        the_column = the_column[0] + the_column[1]\n",
    "        the_column = the_column.replace('a', 'b')\n",
    "    if (each_row['conserve_line'] in reuslt_df.index) and (the_column in reuslt_df.columns):\n",
    "        print(each_row['conserve_line'])\n",
    "        reuslt_df.at[each_row['conserve_line'], the_column] = each_row['ion1'] + each_row['loss1_m'] + each_row['ion2']+ each_row['loss2_m'] + ' \\n ' +\\\n",
    "        each_row['chosen_sum_from'] + ' \\n ' + str(round(each_row['mass_difference1'] + each_row['mass_difference2'], 2))\n",
    "reuslt_df = reuslt_df.fillna('--')"
   ]
  },
  {
   "cell_type": "code",
   "execution_count": 186,
   "id": "5a07feff",
   "metadata": {},
   "outputs": [
    {
     "data": {
      "text/html": [
       "<div>\n",
       "<style scoped>\n",
       "    .dataframe tbody tr th:only-of-type {\n",
       "        vertical-align: middle;\n",
       "    }\n",
       "\n",
       "    .dataframe tbody tr th {\n",
       "        vertical-align: top;\n",
       "    }\n",
       "\n",
       "    .dataframe thead th {\n",
       "        text-align: right;\n",
       "    }\n",
       "</style>\n",
       "<table border=\"1\" class=\"dataframe\">\n",
       "  <thead>\n",
       "    <tr style=\"text-align: right;\">\n",
       "      <th></th>\n",
       "      <th>b1y13</th>\n",
       "      <th>b2y12</th>\n",
       "      <th>b3y11</th>\n",
       "      <th>b4y10</th>\n",
       "      <th>b5y9</th>\n",
       "      <th>b6y8</th>\n",
       "      <th>b7y7</th>\n",
       "      <th>b8y6</th>\n",
       "      <th>b9y5</th>\n",
       "      <th>b10y4</th>\n",
       "      <th>b11y3</th>\n",
       "      <th>b12y2</th>\n",
       "      <th>b13y1</th>\n",
       "    </tr>\n",
       "  </thead>\n",
       "  <tbody>\n",
       "    <tr>\n",
       "      <th>Parent</th>\n",
       "      <td>--</td>\n",
       "      <td>--</td>\n",
       "      <td>--</td>\n",
       "      <td>--</td>\n",
       "      <td>--</td>\n",
       "      <td>--</td>\n",
       "      <td>y7b7 \\n m1+m2 \\n 0.11</td>\n",
       "      <td>y6b8 \\n m1+m2 \\n 0.18</td>\n",
       "      <td>y5b9 \\n m1+m2 \\n -0.01</td>\n",
       "      <td>--</td>\n",
       "      <td>y3b11 \\n m1+m2 \\n -0.21</td>\n",
       "      <td>--</td>\n",
       "      <td>--</td>\n",
       "    </tr>\n",
       "    <tr>\n",
       "      <th>NH3</th>\n",
       "      <td>--</td>\n",
       "      <td>--</td>\n",
       "      <td>--</td>\n",
       "      <td>--</td>\n",
       "      <td>--</td>\n",
       "      <td>--</td>\n",
       "      <td>b7y7NH3 \\n m1+m2 \\n 0.87</td>\n",
       "      <td>y6NH3b8 \\n m1+m2 \\n 0.03</td>\n",
       "      <td>y5NH3b9 \\n m1+m2 \\n -0.02</td>\n",
       "      <td>y4NH3b10 \\n m1+m2 \\n -0.37</td>\n",
       "      <td>y3NH3b11 \\n m1+m2 \\n 0.31</td>\n",
       "      <td>--</td>\n",
       "      <td>--</td>\n",
       "    </tr>\n",
       "    <tr>\n",
       "      <th>H2O</th>\n",
       "      <td>--</td>\n",
       "      <td>--</td>\n",
       "      <td>--</td>\n",
       "      <td>--</td>\n",
       "      <td>--</td>\n",
       "      <td>--</td>\n",
       "      <td>--</td>\n",
       "      <td>--</td>\n",
       "      <td>--</td>\n",
       "      <td>--</td>\n",
       "      <td>--</td>\n",
       "      <td>--</td>\n",
       "      <td>--</td>\n",
       "    </tr>\n",
       "    <tr>\n",
       "      <th>NH3 + H2O</th>\n",
       "      <td>--</td>\n",
       "      <td>--</td>\n",
       "      <td>--</td>\n",
       "      <td>--</td>\n",
       "      <td>--</td>\n",
       "      <td>--</td>\n",
       "      <td>--</td>\n",
       "      <td>--</td>\n",
       "      <td>--</td>\n",
       "      <td>--</td>\n",
       "      <td>--</td>\n",
       "      <td>--</td>\n",
       "      <td>--</td>\n",
       "    </tr>\n",
       "    <tr>\n",
       "      <th>H2O + NH3</th>\n",
       "      <td>--</td>\n",
       "      <td>--</td>\n",
       "      <td>--</td>\n",
       "      <td>--</td>\n",
       "      <td>--</td>\n",
       "      <td>--</td>\n",
       "      <td>y7H2Ob7NH3 \\n m1+m2 \\n 0.18</td>\n",
       "      <td>--</td>\n",
       "      <td>--</td>\n",
       "      <td>--</td>\n",
       "      <td>--</td>\n",
       "      <td>--</td>\n",
       "      <td>--</td>\n",
       "    </tr>\n",
       "    <tr>\n",
       "      <th>a</th>\n",
       "      <td>--</td>\n",
       "      <td>--</td>\n",
       "      <td>--</td>\n",
       "      <td>--</td>\n",
       "      <td>--</td>\n",
       "      <td>--</td>\n",
       "      <td>--</td>\n",
       "      <td>y6a8 \\n m1+m2 \\n 0.4</td>\n",
       "      <td>--</td>\n",
       "      <td>--</td>\n",
       "      <td>--</td>\n",
       "      <td>--</td>\n",
       "      <td>--</td>\n",
       "    </tr>\n",
       "  </tbody>\n",
       "</table>\n",
       "</div>"
      ],
      "text/plain": [
       "          b1y13 b2y12 b3y11 b4y10 b5y9 b6y8                         b7y7  \\\n",
       "Parent       --    --    --    --   --   --        y7b7 \\n m1+m2 \\n 0.11   \n",
       "NH3          --    --    --    --   --   --     b7y7NH3 \\n m1+m2 \\n 0.87   \n",
       "H2O          --    --    --    --   --   --                           --   \n",
       "NH3 + H2O    --    --    --    --   --   --                           --   \n",
       "H2O + NH3    --    --    --    --   --   --  y7H2Ob7NH3 \\n m1+m2 \\n 0.18   \n",
       "a            --    --    --    --   --   --                           --   \n",
       "\n",
       "                               b8y6                       b9y5  \\\n",
       "Parent        y6b8 \\n m1+m2 \\n 0.18     y5b9 \\n m1+m2 \\n -0.01   \n",
       "NH3        y6NH3b8 \\n m1+m2 \\n 0.03  y5NH3b9 \\n m1+m2 \\n -0.02   \n",
       "H2O                              --                         --   \n",
       "NH3 + H2O                        --                         --   \n",
       "H2O + NH3                        --                         --   \n",
       "a              y6a8 \\n m1+m2 \\n 0.4                         --   \n",
       "\n",
       "                                b10y4                      b11y3 b12y2 b13y1  \n",
       "Parent                             --    y3b11 \\n m1+m2 \\n -0.21    --    --  \n",
       "NH3        y4NH3b10 \\n m1+m2 \\n -0.37  y3NH3b11 \\n m1+m2 \\n 0.31    --    --  \n",
       "H2O                                --                         --    --    --  \n",
       "NH3 + H2O                          --                         --    --    --  \n",
       "H2O + NH3                          --                         --    --    --  \n",
       "a                                  --                         --    --    --  "
      ]
     },
     "execution_count": 186,
     "metadata": {},
     "output_type": "execute_result"
    }
   ],
   "source": [
    "reuslt_df"
   ]
  },
  {
   "cell_type": "code",
   "execution_count": 163,
   "id": "4b8817c2",
   "metadata": {},
   "outputs": [
    {
     "data": {
      "text/plain": [
       "Index(['ranking', 'each_original_data', 'ion1', 'loss1', 'loss_sign1',\n",
       "       'charge1', 'mass1', 'ion2', 'loss2', 'loss_sign2', 'charge2', 'mass2',\n",
       "       'addition_mass1', 'addition_mass2', 'ion_mass1', 'ion_mass2',\n",
       "       'correct_mass1', 'correct_mass2', 'mass_difference1',\n",
       "       'mass_difference2', 'm1+m2', '2m1+m2', 'm1+2m2', 'chosen_sum_from',\n",
       "       'chosen_sum', 'conserve_line'],\n",
       "      dtype='object')"
      ]
     },
     "execution_count": 163,
     "metadata": {},
     "output_type": "execute_result"
    }
   ],
   "source": [
    "df.columns"
   ]
  },
  {
   "cell_type": "code",
   "execution_count": null,
   "id": "a73be16a",
   "metadata": {},
   "outputs": [],
   "source": []
  },
  {
   "cell_type": "code",
   "execution_count": 190,
   "id": "b872287a",
   "metadata": {},
   "outputs": [
    {
     "name": "stderr",
     "output_type": "stream",
     "text": [
      "22134 bytes written to file /Users/kevinmbp/Desktop/2D_spec_dict/colored_substrings.png\n"
     ]
    },
    {
     "data": {
      "text/plain": [
       "['/Users/kevinmbp/Desktop/2D_spec_dict/colored_substrings.png']"
      ]
     },
     "execution_count": 190,
     "metadata": {},
     "output_type": "execute_result"
    }
   ],
   "source": [
    "import pandas as pd\n",
    "from html2image import Html2Image\n",
    "\n",
    "# 1. Your original DataFrame and color dictionary\n",
    "data = {\n",
    "    'b12y1 | b2y1': ['(no loss,no loss) 0.31', '(no loss,NH3) -0.25', '(no loss,H2O)', '--'],\n",
    "    'b3y10 | b4y9 | b5y8': ['--', '(NH3,no loss) -0.17', '--', '--'],\n",
    "}\n",
    "df = pd.DataFrame(data, index=['Parent', 'NH3', 'H2O', 'a'])\n",
    "\n",
    "color_dict = {\n",
    "    'NH3': 'blue',\n",
    "    'H2O': 'red',\n",
    "}\n",
    "\n",
    "# 2. Create a copy of the DataFrame to modify its content\n",
    "# It's good practice to work on a copy\n",
    "df_display = df.copy().astype(str)\n",
    "\n",
    "# 3. Iterate through the rows and inject HTML directly into the data\n",
    "for index_name in df_display.index:\n",
    "    if index_name in color_dict:\n",
    "        color = color_dict[index_name]\n",
    "        substring_to_color = index_name\n",
    "        \n",
    "        # Create the replacement HTML string\n",
    "        replacement_html = f\"<span style='color: {color}; font-weight: bold;'>{substring_to_color}</span>\"\n",
    "        \n",
    "        # Modify the row in our display DataFrame\n",
    "        # We use regex=False to ensure it treats the string literally\n",
    "        df_display.loc[index_name] = df_display.loc[index_name].str.replace(\n",
    "            substring_to_color, replacement_html, regex=False\n",
    "        )\n",
    "\n",
    "# 4. Now, apply simple, table-wide styles. No complex .apply() is needed.\n",
    "styled_df = df_display.style.set_properties(**{\n",
    "    'border': '1px solid black',\n",
    "    'text-align': 'center'\n",
    "})\n",
    "\n",
    "# 5. Export to HTML (with escape=False) and then to PNG\n",
    "html_output = styled_df.to_html(escape=False)\n",
    "with open(\"colored_substrings.html\", \"w\") as f:\n",
    "    f.write(html_output)\n",
    "\n",
    "hti = Html2Image()\n",
    "hti.screenshot(html_file='colored_substrings.html', save_as='colored_substrings.png')"
   ]
  },
  {
   "cell_type": "code",
   "execution_count": 192,
   "id": "831acd00",
   "metadata": {},
   "outputs": [
    {
     "name": "stderr",
     "output_type": "stream",
     "text": [
      "22220 bytes written to file /Users/kevinmbp/Desktop/2D_spec_dict/colored_table_and_index.png\n"
     ]
    },
    {
     "data": {
      "text/plain": [
       "['/Users/kevinmbp/Desktop/2D_spec_dict/colored_table_and_index.png']"
      ]
     },
     "execution_count": 192,
     "metadata": {},
     "output_type": "execute_result"
    }
   ],
   "source": [
    "import pandas as pd\n",
    "from html2image import Html2Image\n",
    "\n",
    "# Your setup code remains the same\n",
    "data = {\n",
    "    'b12y1 | b2y1': ['(no loss,no loss) 0.31', '(no loss,NH3) -0.25', '(no loss,H2O)', '--'],\n",
    "    'b3y10 | b4y9 | b5y8': ['--', '(NH3,no loss) -0.17', '--', '--'],\n",
    "}\n",
    "df = pd.DataFrame(data, index=['Parent', 'NH3', 'H2O', 'a'])\n",
    "color_dict = {\n",
    "    'NH3': 'blue',\n",
    "    'H2O': 'red',\n",
    "    'Parent': 'green'\n",
    "}\n",
    "df_display = df.copy().astype(str)\n",
    "for index_name in df_display.index:\n",
    "    if index_name in color_dict:\n",
    "        color = color_dict[index_name]\n",
    "        replacement_html = f\"<span style='color: {color}; font-weight: bold;'>{index_name}</span>\"\n",
    "        df_display.loc[index_name] = df_display.loc[index_name].str.replace(\n",
    "            index_name, replacement_html, regex=False\n",
    "        )\n",
    "\n",
    "# 💡 THE FIX: Rewrite the function to handle a Series\n",
    "def color_index_series(index_labels_series):\n",
    "    \"\"\"\n",
    "    Takes a Series of index labels and returns a Series of CSS styles.\n",
    "    \"\"\"\n",
    "    # Use .map() to apply the logic to each label in the Series\n",
    "    return index_labels_series.map(\n",
    "        lambda label: f\"color: {color_dict.get(label, 'black')}; font-weight: bold;\"\n",
    "    )\n",
    "\n",
    "# Now, call the new function\n",
    "styled_df = df_display.style.apply_index(color_index_series, axis=\"index\") \\\n",
    "                          .set_properties(**{\n",
    "                              'border': '1px solid black',\n",
    "                              'text-align': 'center'\n",
    "                          })\n",
    "\n",
    "# Exporting remains the same\n",
    "html_output = styled_df.to_html(escape=False)\n",
    "with open(\"colored_table_and_index.html\", \"w\") as f:\n",
    "    f.write(html_output)\n",
    "\n",
    "hti = Html2Image()\n",
    "hti.screenshot(html_file='colored_table_and_index.html', save_as='colored_table_and_index.png')"
   ]
  },
  {
   "cell_type": "code",
   "execution_count": null,
   "id": "3dbf236a",
   "metadata": {},
   "outputs": [],
   "source": []
  }
 ],
 "metadata": {
  "kernelspec": {
   "display_name": "2d_spec",
   "language": "python",
   "name": "python3"
  },
  "language_info": {
   "codemirror_mode": {
    "name": "ipython",
    "version": 3
   },
   "file_extension": ".py",
   "mimetype": "text/x-python",
   "name": "python",
   "nbconvert_exporter": "python",
   "pygments_lexer": "ipython3",
   "version": "3.10.18"
  }
 },
 "nbformat": 4,
 "nbformat_minor": 5
}
