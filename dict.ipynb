{
 "cells": [
  {
   "cell_type": "code",
   "execution_count": 1,
   "id": "e0635458",
   "metadata": {},
   "outputs": [
    {
     "name": "stdout",
     "output_type": "stream",
     "text": [
      "337.1988\n"
     ]
    }
   ],
   "source": [
    "import numpy as np\n",
    "import matplotlib.pyplot as plt\n",
    "import pandas as pd\n",
    "import peptide"
   ]
  },
  {
   "cell_type": "code",
   "execution_count": 2,
   "id": "b1785c79",
   "metadata": {},
   "outputs": [],
   "source": [
    "amino_acid_masses = {\n",
    "    \"A\": 71.03711,   # Alanine\n",
    "    \"R\": 156.10111,  # Arginine\n",
    "    \"N\": 114.04293,  # Asparagine\n",
    "    \"D\": 115.02694,  # Aspartic acid\n",
    "    \"C\": 103.00919,  # Cysteine\n",
    "    \"E\": 129.04259,  # Glutamic acid\n",
    "    \"Q\": 128.05858,  # Glutamine\n",
    "    \"G\": 57.02146,   # Glycine\n",
    "    \"H\": 137.05891,  # Histidine\n",
    "    \"(I/L)\": 113.08406,  # Isoleucine\n",
    "    #\"L\": 113.08406,  # Leucine\n",
    "    \"K\": 128.09496,  # Lysine\n",
    "    \"M\": 131.04049,  # Methionine\n",
    "    \"F\": 147.06841,  # Phenylalanine\n",
    "    \"P\": 97.05276,   # Proline\n",
    "    \"S\": 87.03203,   # Serine\n",
    "    \"T\": 101.04768,  # Threonine\n",
    "    \"W\": 186.07931,  # Tryptophan\n",
    "    \"Y\": 163.06333,  # Tyrosine\n",
    "    \"V\": 99.06841,    # Valine\n",
    "    \"R(Me)\": 156.10111 + 14.01565,  # Methylated Arginine\n",
    "}\n"
   ]
  },
  {
   "cell_type": "code",
   "execution_count": 3,
   "id": "cf1babc3",
   "metadata": {},
   "outputs": [],
   "source": [
    "ptm_masses = {\n",
    "    \"Me\": 14.01565,  \n",
    "    'Me2': 28.0313,\n",
    "    }"
   ]
  },
  {
   "cell_type": "code",
   "execution_count": 4,
   "id": "8fc089c8",
   "metadata": {},
   "outputs": [],
   "source": [
    "def decode_ideal_spec(data, tolerance=0.5):\n",
    "    data = [0] + data\n",
    "    graph = {}\n",
    "    for i in range(len(data) - 1):\n",
    "        each_start = data[i]\n",
    "        for j in range(i + 1, len(data)):\n",
    "            the_difference = data[j] - each_start\n",
    "            for eahc_pep in amino_acid_masses:\n",
    "                if the_difference <= amino_acid_masses[eahc_pep] + tolerance and the_difference >= amino_acid_masses[eahc_pep] - tolerance:\n",
    "                    #print(data[i], '->', data[j], ':', eahc_pep)\n",
    "                    if data[i] in graph:\n",
    "                        graph[data[i]].append((data[j], eahc_pep))\n",
    "                    else:\n",
    "                        graph[data[i]] = [(data[j], eahc_pep)]\n",
    "                    break\n",
    "    return graph"
   ]
  },
  {
   "cell_type": "code",
   "execution_count": 5,
   "id": "119a17e7",
   "metadata": {},
   "outputs": [],
   "source": [
    "def get_paths(graph, start):\n",
    "    paths = []\n",
    "\n",
    "    def dfs(node, path):\n",
    "        if node not in graph or not graph[node]:\n",
    "            # No outgoing edges → path ends here\n",
    "            paths.append(path)\n",
    "            return\n",
    "        for nxt, label in graph[node]:\n",
    "            dfs(nxt, path + [label])\n",
    "\n",
    "    dfs(start, [])\n",
    "    return paths\n",
    "\n",
    "def ideal_spec(the_aa_array):\n",
    "    result = []\n",
    "    for i in range(len(the_aa_array) + 1):\n",
    "        current_array = the_aa_array[:i]\n",
    "        the_number = 0\n",
    "        for j in current_array:\n",
    "            the_number += j.get_mass()\n",
    "        result.append(the_number)\n",
    "    for i in range(1, len(the_aa_array)):\n",
    "        current_array = the_aa_array[i:]\n",
    "        the_number = 0\n",
    "        for j in current_array:\n",
    "            the_number += j.get_mass()\n",
    "        result.append(the_number)\n",
    "    result.sort()\n",
    "    return result\n",
    "\n",
    "\n",
    "def DecodingIdealSpectrum(spectrum):\n",
    "    graph = decode_ideal_spec(spectrum)\n",
    "    #print(graph)\n",
    "    all_pathes = get_paths(graph, 0)\n",
    "    #print(all_pathes)\n",
    "    all_pathes = [''.join(p) for p in all_pathes]\n",
    "    #print(all_pathes)\n",
    "    for i in all_pathes:\n",
    "        #print(ideal_spec(i))\n",
    "        if ideal_spec(i)[1:] == spectrum:\n",
    "            return i"
   ]
  },
  {
   "cell_type": "code",
   "execution_count": 6,
   "id": "dd7a4261",
   "metadata": {},
   "outputs": [
    {
     "data": {
      "text/plain": [
       "[G, G, N, F, S, G, R(Me), G, G, F, G, G, S, R]"
      ]
     },
     "execution_count": 6,
     "metadata": {},
     "output_type": "execute_result"
    }
   ],
   "source": [
    "the_pep = peptide.Pep(\"[GGNFSGR(Me)GGFGGSR+2H]2+\")\n",
    "the_pep.AA_array"
   ]
  },
  {
   "cell_type": "code",
   "execution_count": 7,
   "id": "f17ad614",
   "metadata": {},
   "outputs": [
    {
     "data": {
      "text/plain": [
       "[0,\n",
       " 57.02146,\n",
       " 114.04292,\n",
       " 156.10111,\n",
       " 228.08585,\n",
       " 243.13314000000003,\n",
       " 300.1546,\n",
       " 357.17606,\n",
       " 375.15426,\n",
       " 462.18629000000004,\n",
       " 504.24447000000004,\n",
       " 519.20775,\n",
       " 561.26593,\n",
       " 618.28739,\n",
       " 689.32451,\n",
       " 746.3459700000001,\n",
       " 788.4041499999998,\n",
       " 803.3674300000001,\n",
       " 845.42561,\n",
       " 932.4576400000001,\n",
       " 950.4358400000001,\n",
       " 1007.4573000000001,\n",
       " 1064.4787600000002,\n",
       " 1079.5260500000002,\n",
       " 1151.5107900000003,\n",
       " 1193.5689800000002,\n",
       " 1250.5904400000002,\n",
       " 1307.6119000000003]"
      ]
     },
     "execution_count": 7,
     "metadata": {},
     "output_type": "execute_result"
    }
   ],
   "source": [
    "ideal_spec(the_pep.AA_array)"
   ]
  },
  {
   "cell_type": "code",
   "execution_count": 8,
   "id": "bb7fd0f1",
   "metadata": {},
   "outputs": [],
   "source": [
    "df = pd.read_csv('data/data_table/data_sheet1.csv')\n",
    "conserve_line_df = df[(df['m1+m2']< 1327+1) & (df['m1+m2']> 1327-1)]"
   ]
  },
  {
   "cell_type": "code",
   "execution_count": 9,
   "id": "a0893396",
   "metadata": {},
   "outputs": [],
   "source": [
    "conserve_line_list = list(conserve_line_df['mass1']) + list(conserve_line_df['mass2'])"
   ]
  },
  {
   "cell_type": "code",
   "execution_count": 10,
   "id": "5991b19d",
   "metadata": {},
   "outputs": [
    {
     "data": {
      "text/plain": [
       "[318.85,\n",
       " 505.13,\n",
       " 523.26,\n",
       " 580.39,\n",
       " 637.39,\n",
       " 690.36,\n",
       " 747.43,\n",
       " 804.37,\n",
       " 822.35,\n",
       " 1008.58]"
      ]
     },
     "execution_count": 10,
     "metadata": {},
     "output_type": "execute_result"
    }
   ],
   "source": [
    "conserve_line_list.sort()\n",
    "conserve_line_list"
   ]
  },
  {
   "cell_type": "code",
   "execution_count": 11,
   "id": "c93ca124",
   "metadata": {},
   "outputs": [],
   "source": [
    "def decode_ideal_spec_print(data, tolerance=0.8):\n",
    "    data = [0] + data\n",
    "    graph = {}\n",
    "    for i in range(len(data) - 1):\n",
    "        each_start = data[i]\n",
    "        for j in range(i + 1, len(data)):\n",
    "            the_difference = data[j] - each_start\n",
    "            for eahc_pep in amino_acid_masses:\n",
    "                if the_difference <= amino_acid_masses[eahc_pep] + tolerance and the_difference >= amino_acid_masses[eahc_pep] - tolerance:\n",
    "                    print(data[i], '->', data[j], ':', eahc_pep)"
   ]
  },
  {
   "cell_type": "code",
   "execution_count": 12,
   "id": "83d63c93",
   "metadata": {},
   "outputs": [],
   "source": [
    "graph_data = decode_ideal_spec(conserve_line_list)"
   ]
  },
  {
   "cell_type": "code",
   "execution_count": 13,
   "id": "c121b064",
   "metadata": {},
   "outputs": [
    {
     "name": "stderr",
     "output_type": "stream",
     "text": [
      "/var/folders/rn/8krws_b93vv3ckfsgwjhq5z80000gn/T/ipykernel_90422/2241967387.py:19: UserWarning: This figure includes Axes that are not compatible with tight_layout, so results might be incorrect.\n",
      "  plt.tight_layout()\n"
     ]
    },
    {
     "data": {
      "image/png": "[encoded data removed]",
      "text/plain": [
       "<Figure size 640x480 with 1 Axes>"
      ]
     },
     "metadata": {},
     "output_type": "display_data"
    }
   ],
   "source": [
    "import networkx as nx\n",
    "# Create a directed graph\n",
    "G = nx.DiGraph()\n",
    "\n",
    "# Add edges with labels\n",
    "for src, targets in graph_data.items():\n",
    "    for dst, label in targets:\n",
    "        G.add_edge(src, dst, label=label)\n",
    "\n",
    "# Choose layout (spring_layout = general, shell_layout = ordered)\n",
    "pos = nx.spring_layout(G, seed=42, k=0.6)\n",
    "\n",
    "# Draw nodes and edges\n",
    "nx.draw(G, pos, with_labels=True, node_color=\"lightblue\", node_size=1200, font_size=10, arrowsize=20)\n",
    "nx.draw_networkx_edge_labels(G, pos, edge_labels=nx.get_edge_attributes(G, 'label'), font_color='red')\n",
    "\n",
    "# Optional: Adjust margins and title\n",
    "plt.title(\"Peptide Fragmentation Graph\", fontsize=14)\n",
    "plt.tight_layout()\n",
    "plt.show()"
   ]
  },
  {
   "cell_type": "code",
   "execution_count": 14,
   "id": "11eb72f6",
   "metadata": {},
   "outputs": [],
   "source": [
    "from collections import defaultdict\n",
    "from typing import Dict, List, Tuple, Any, Set\n",
    "\n",
    "Adj = Dict[Any, List[Tuple[Any, Any]]]\n",
    "\n",
    "def all_paths(adj: Adj):\n",
    "    \"\"\"\n",
    "    Enumerate all simple paths in a directed graph represented as:\n",
    "        { node: [(neighbor, edge_label), ...], ... }\n",
    "\n",
    "    Returns: List of dicts with:\n",
    "        - 'nodes': [n0, n1, ..., nk]\n",
    "        - 'edges': [(n0, n1, label01), (n1, n2, label12), ...]\n",
    "    Handles:\n",
    "        - Disconnected components\n",
    "        - Nodes with no outgoing edges (isolated or sinks)\n",
    "        - Cycles (won't revisit a node already in the current path)\n",
    "    \"\"\"\n",
    "    # Collect all nodes (appear as keys or neighbors)\n",
    "    nodes: Set[Any] = set(adj.keys())\n",
    "    for u, outs in adj.items():\n",
    "        for v, _lbl in outs:\n",
    "            nodes.add(v)\n",
    "\n",
    "    # Normalize: ensure every node exists as a key\n",
    "    norm_adj: Adj = {u: list(adj.get(u, [])) for u in nodes}\n",
    "\n",
    "    # Compute in-degrees to find sources (roots of components)\n",
    "    indeg = defaultdict(int)\n",
    "    for u, outs in norm_adj.items():\n",
    "        for v, _lbl in outs:\n",
    "            indeg[v] += 1\n",
    "    sources = [u for u in nodes if indeg[u] == 0]\n",
    "\n",
    "    # If there are cycles that make every node have indegree>0,\n",
    "    # fall back to starting from every node (we still avoid revisits).\n",
    "    if not sources:\n",
    "        sources = list(nodes)\n",
    "\n",
    "    out_paths = []\n",
    "\n",
    "    def dfs(u, visited, node_path, edge_path):\n",
    "        visited.add(u)\n",
    "        node_path.append(u)\n",
    "\n",
    "        # If u has no outgoing edges OR all neighbors are already visited -> treat as leaf\n",
    "        outs = norm_adj.get(u, [])\n",
    "        advanced = False\n",
    "        for v, lbl in outs:\n",
    "            if v not in visited:\n",
    "                advanced = True\n",
    "                edge_path.append((u, v, lbl))\n",
    "                dfs(v, visited, node_path, edge_path)\n",
    "                edge_path.pop()\n",
    "        if not advanced:\n",
    "            # Reached a sink (or all next steps would revisit): record path\n",
    "            out_paths.append({\n",
    "                'nodes': list(node_path),\n",
    "                'edges': list(edge_path),\n",
    "            })\n",
    "\n",
    "        node_path.pop()\n",
    "        visited.remove(u)\n",
    "\n",
    "    # Also account for isolated nodes (no in, no out) — they’ll be included via sources\n",
    "    for s in sources:\n",
    "        dfs(s, set(), [], [])\n",
    "\n",
    "    # Deduplicate paths in case multiple starts hit the same leaf (rare but possible).\n",
    "    # We’ll dedupe by (tuple(nodes), tuple(edges))\n",
    "    seen = set()\n",
    "    unique = []\n",
    "    for p in out_paths:\n",
    "        key = (tuple(p['nodes']), tuple(p['edges']))\n",
    "        if key not in seen:\n",
    "            seen.add(key)\n",
    "            unique.append(p)\n",
    "    return unique\n",
    "\n"
   ]
  },
  {
   "cell_type": "code",
   "execution_count": 15,
   "id": "01e0d9f5",
   "metadata": {},
   "outputs": [
    {
     "data": {
      "text/plain": [
       "[{'nodes': [523.26, 580.39, 637.39],\n",
       "  'edges': [(523.26, 580.39, 'G'), (580.39, 637.39, 'G')]},\n",
       " {'nodes': [523.26, 637.39], 'edges': [(523.26, 637.39, 'N')]},\n",
       " {'nodes': [690.36, 747.43, 804.37],\n",
       "  'edges': [(690.36, 747.43, 'G'), (747.43, 804.37, 'G')]},\n",
       " {'nodes': [690.36, 804.37], 'edges': [(690.36, 804.37, 'N')]},\n",
       " {'nodes': [822.35, 1008.58], 'edges': [(822.35, 1008.58, 'W')]},\n",
       " {'nodes': [318.85, 505.13], 'edges': [(318.85, 505.13, 'W')]}]"
      ]
     },
     "execution_count": 15,
     "metadata": {},
     "output_type": "execute_result"
    }
   ],
   "source": [
    "all_paths(graph_data)"
   ]
  },
  {
   "cell_type": "code",
   "execution_count": 16,
   "id": "aadd5cbe",
   "metadata": {},
   "outputs": [],
   "source": [
    "from collections import Counter\n",
    "from math import gcd\n",
    "from functools import reduce\n",
    "from typing import List\n",
    "\n",
    "def permutations_sum(nums: List[int], target: int) -> List[List[int]]:\n",
    "    \"\"\"\n",
    "    Return all unique permutations drawn from nums (each value used ≤ its count)\n",
    "    whose elements sum to target. Assumes all numbers are non-negative.\n",
    "    \"\"\"\n",
    "    # Remove zeros (they cause infinite branching; also don't help reach a positive target)\n",
    "    nums = [x for x in nums if x > 0]\n",
    "    counts = Counter(nums)\n",
    "    uniq = sorted(counts)  # ascending for early pruning\n",
    "    res: List[List[int]] = []\n",
    "\n",
    "    # Necessary (cheap) pruning: if gcd of all values doesn't divide target, no solutions\n",
    "    if not uniq:\n",
    "        return [[]] if target == 0 else []\n",
    "    g = reduce(gcd, uniq)\n",
    "    if target % g != 0:\n",
    "        return []\n",
    "\n",
    "    def dfs(remain: int, path: List[int]) -> None:\n",
    "        if remain == 0:\n",
    "            res.append(path.copy())\n",
    "            return\n",
    "        # try each available value (order matters => try all)\n",
    "        for v in uniq:\n",
    "            if counts[v] == 0: \n",
    "                continue\n",
    "            if v > remain:      # prune (nums are non-negative & sorted)\n",
    "                break\n",
    "            counts[v] -= 1\n",
    "            path.append(v)\n",
    "            dfs(remain - v, path)\n",
    "            path.pop()\n",
    "            counts[v] += 1\n",
    "\n",
    "    dfs(target, [])\n",
    "    return res\n",
    "\n",
    "# Variant: unlimited reuse of candidates (ignore input multiplicities)\n",
    "def permutations_sum_unlimited(nums: List[int], target: int) -> List[List[int]]:\n",
    "    nums = sorted({x for x in nums if x > 0})\n",
    "    if not nums:\n",
    "        return [[]] if target == 0 else []\n",
    "    g = reduce(gcd, nums)\n",
    "    if target % g != 0:\n",
    "        return []\n",
    "    res: List[List[int]] = []\n",
    "\n",
    "    def dfs(remain: int, path: List[int]) -> None:\n",
    "        if remain == 0:\n",
    "            res.append(path.copy())\n",
    "            return\n",
    "        for v in nums:\n",
    "            if v > remain:\n",
    "                break\n",
    "            path.append(v)\n",
    "            dfs(remain - v, path)\n",
    "            path.pop()\n",
    "\n",
    "    dfs(target, [])\n",
    "    return res"
   ]
  },
  {
   "cell_type": "code",
   "execution_count": 35,
   "id": "a9c02377",
   "metadata": {},
   "outputs": [],
   "source": [
    "\n",
    "def permutations_sum_unlimited(nums: List[int], target: int, tolerance: int = 0) -> List[List[int]]:\n",
    "    \"\"\"\n",
    "    Enumerate all order-sensitive sequences made from positive values in `nums` (unlimited reuse)\n",
    "    whose sum is within [target - tolerance, target + tolerance], inclusive.\n",
    "\n",
    "    Notes:\n",
    "    - Ignores non-positives to guarantee finiteness.\n",
    "    - Uses a gcd reachability check to quickly return [] when no sum in the window is reachable.\n",
    "    \"\"\"\n",
    "    if tolerance < 0:\n",
    "        raise ValueError(\"tolerance must be >= 0\")\n",
    "\n",
    "    vals = sorted({x for x in nums if x > 0})\n",
    "    lo = max(0, target - tolerance)\n",
    "    hi = target + tolerance\n",
    "    res: List[List[int]] = []\n",
    "\n",
    "    if not vals:\n",
    "        return [[]] if lo <= 0 <= hi else []\n",
    "\n",
    "    # Reachability: sums are multiples of gcd(vals). If no multiple lies in [lo, hi], no solutions.\n",
    "    g = reduce(gcd, vals)\n",
    "    first_multiple = ((lo + g - 1) // g) * g\n",
    "    if first_multiple > hi:\n",
    "        return []\n",
    "\n",
    "    def dfs(cur_sum: int, path: List[int]) -> None:\n",
    "        if lo <= cur_sum <= hi:\n",
    "            res.append(path.copy())\n",
    "            # don't return here; longer sequences may still be valid until cur_sum > hi\n",
    "        if cur_sum >= hi:\n",
    "            return\n",
    "        for v in vals:\n",
    "            nv = cur_sum + v\n",
    "            if nv > hi:\n",
    "                break\n",
    "            path.append(v)\n",
    "            dfs(nv, path)\n",
    "            path.pop()\n",
    "\n",
    "    dfs(0, [])\n",
    "    return res"
   ]
  },
  {
   "cell_type": "code",
   "execution_count": null,
   "id": "d11c243e",
   "metadata": {},
   "outputs": [],
   "source": [
    "def permutations_sum_unlimited_keys(weights: Dict[str, int],\n",
    "                                    target: int,\n",
    "                                    tolerance: int = 0) -> List[List[str]]:\n",
    "    \"\"\"\n",
    "    Enumerate all order-sensitive sequences of KEYS (unlimited reuse) such that\n",
    "    the sum of their associated weights is within [target - tolerance, target + tolerance].\n",
    "\n",
    "    - Ignores keys with non-positive weights to avoid infinite loops.\n",
    "    - Uses a gcd reachability check to quickly skip impossible windows.\n",
    "    \"\"\"\n",
    "    if tolerance < 0:\n",
    "        raise ValueError(\"tolerance must be >= 0\")\n",
    "\n",
    "    # Keep only positive-weight items; sort by weight for pruning\n",
    "    items = sorted(((k, v) for k, v in weights.items() if v > 0), key=lambda kv: kv[1])\n",
    "    lo = max(0, target - tolerance)\n",
    "    hi = target + tolerance\n",
    "    res: List[List[str]] = []\n",
    "\n",
    "    if not items:\n",
    "        return [[]] if lo <= 0 <= hi else []\n",
    "\n",
    "    # Reachability: any achievable sum is a multiple of gcd of weights\n",
    "    uniq_vals = sorted({v for _, v in items})\n",
    "    g = reduce(gcd, uniq_vals)\n",
    "    first_multiple = ((lo + g - 1) // g) * g\n",
    "    if first_multiple > hi:\n",
    "        return []\n",
    "\n",
    "    def dfs(cur_sum: int, path: List[str]) -> None:\n",
    "        if lo <= cur_sum <= hi:\n",
    "            res.append(path.copy())\n",
    "            # continue; longer sequences might still keep sum ≤ hi\n",
    "        if cur_sum >= hi:\n",
    "            return\n",
    "        for k, v in items:\n",
    "            nv = cur_sum + v\n",
    "            if nv > hi:\n",
    "                break  # items sorted by weight ⇒ safe to break\n",
    "            path.append(k)\n",
    "            dfs(nv, path)\n",
    "            path.pop()\n",
    "\n",
    "    dfs(0, [])\n",
    "    return res"
   ]
  },
  {
   "cell_type": "code",
   "execution_count": 40,
   "id": "c894b8d3",
   "metadata": {},
   "outputs": [],
   "source": [
    "a = permutations_sum_unlimited([2,3,5], 10, 1)\n",
    "# -> [[3,5], [5,3], [3,3,2], [3,2,3], [2,3,3]]"
   ]
  },
  {
   "cell_type": "code",
   "execution_count": 41,
   "id": "17d6ab18",
   "metadata": {},
   "outputs": [
    {
     "data": {
      "text/plain": [
       "[[2, 2, 2, 2, 2],\n",
       " [2, 2, 2, 2, 3],\n",
       " [2, 2, 2, 3],\n",
       " [2, 2, 2, 3, 2],\n",
       " [2, 2, 2, 5],\n",
       " [2, 2, 3, 2],\n",
       " [2, 2, 3, 2, 2],\n",
       " [2, 2, 3, 3],\n",
       " [2, 2, 5],\n",
       " [2, 2, 5, 2],\n",
       " [2, 3, 2, 2],\n",
       " [2, 3, 2, 2, 2],\n",
       " [2, 3, 2, 3],\n",
       " [2, 3, 3, 2],\n",
       " [2, 3, 3, 3],\n",
       " [2, 3, 5],\n",
       " [2, 5, 2],\n",
       " [2, 5, 2, 2],\n",
       " [2, 5, 3],\n",
       " [3, 2, 2, 2],\n",
       " [3, 2, 2, 2, 2],\n",
       " [3, 2, 2, 3],\n",
       " [3, 2, 3, 2],\n",
       " [3, 2, 3, 3],\n",
       " [3, 2, 5],\n",
       " [3, 3, 2, 2],\n",
       " [3, 3, 2, 3],\n",
       " [3, 3, 3],\n",
       " [3, 3, 3, 2],\n",
       " [3, 3, 5],\n",
       " [3, 5, 2],\n",
       " [3, 5, 3],\n",
       " [5, 2, 2],\n",
       " [5, 2, 2, 2],\n",
       " [5, 2, 3],\n",
       " [5, 3, 2],\n",
       " [5, 3, 3],\n",
       " [5, 5]]"
      ]
     },
     "execution_count": 41,
     "metadata": {},
     "output_type": "execute_result"
    }
   ],
   "source": [
    "a"
   ]
  },
  {
   "cell_type": "code",
   "execution_count": 27,
   "id": "6d18b7a8",
   "metadata": {},
   "outputs": [],
   "source": [
    "a_len = [len(i) for i in a]"
   ]
  },
  {
   "cell_type": "code",
   "execution_count": 28,
   "id": "25b8edc6",
   "metadata": {},
   "outputs": [
    {
     "data": {
      "text/plain": [
       "np.float64(10.678096083153758)"
      ]
     },
     "execution_count": 28,
     "metadata": {},
     "output_type": "execute_result"
    }
   ],
   "source": [
    "np.array(a_len).mean()"
   ]
  },
  {
   "cell_type": "code",
   "execution_count": 30,
   "id": "df8cc9bc",
   "metadata": {},
   "outputs": [
    {
     "data": {
      "text/plain": [
       "15778"
      ]
     },
     "execution_count": 30,
     "metadata": {},
     "output_type": "execute_result"
    }
   ],
   "source": [
    "len(a)"
   ]
  },
  {
   "cell_type": "code",
   "execution_count": 33,
   "id": "e25d7c26",
   "metadata": {},
   "outputs": [
    {
     "name": "stdout",
     "output_type": "stream",
     "text": [
      "Found the following paths:\n",
      "(318.85)W(505.13)\n",
      "(523.26)GG(637.39)\n",
      "(523.26)N(637.39)\n",
      "(580.39)G(637.39)\n",
      "(690.36)GG(804.37)\n",
      "(690.36)N(804.37)\n",
      "(747.43)G(804.37)\n",
      "(822.35)W(1008.58)\n"
     ]
    }
   ],
   "source": [
    "def find_all_paths(graph):\n",
    "    \"\"\"\n",
    "    Finds all possible paths in a directed graph.\n",
    "\n",
    "    This function traverses a graph represented by an adjacency list to find\n",
    "    all possible paths from a starting node to a terminal node (a node with\n",
    "    no outgoing edges).\n",
    "\n",
    "    Args:\n",
    "        graph: A dictionary where keys are starting nodes and values are lists\n",
    "               of tuples. Each tuple contains a destination node and an\n",
    "               annotation (edge label).\n",
    "               Example: {node1: [(node2, 'A'), (node3, 'B')]}\n",
    "\n",
    "    Returns:\n",
    "        A list of strings, where each string represents a unique path in the\n",
    "        format \"(start_node)annotations(end_node)\".\n",
    "    \"\"\"\n",
    "    all_paths = []\n",
    "\n",
    "    def dfs(start_node, current_node, accumulated_annotes):\n",
    "        \"\"\"\n",
    "        A recursive helper function to perform a Depth-First Search.\n",
    "\n",
    "        Args:\n",
    "            start_node: The original starting node of the path.\n",
    "            current_node: The node currently being visited.\n",
    "            accumulated_annotes: The concatenated string of annotations for the\n",
    "                                 path traversed so far.\n",
    "        \"\"\"\n",
    "        # A terminal node is one that does not have any outgoing edges,\n",
    "        # meaning it won't be a key in the graph dictionary.\n",
    "        if current_node not in graph:\n",
    "            # We have reached the end of a path. Format and save it.\n",
    "            path_string = f\"({start_node}){accumulated_annotes}({current_node})\"\n",
    "            all_paths.append(path_string)\n",
    "            return\n",
    "\n",
    "        # If the current node is not a terminal node, continue to its neighbors.\n",
    "        for next_node, annote in graph[current_node]:\n",
    "            # Recursively call dfs for each neighbor, appending the new annotation.\n",
    "            dfs(start_node, next_node, accumulated_annotes + annote)\n",
    "\n",
    "    # Iterate through each node in the graph dictionary as a potential starting point.\n",
    "    for node in graph:\n",
    "        # Begin the DFS for each of its direct neighbors.\n",
    "        for neighbor, first_annote in graph[node]:\n",
    "            dfs(start_node=node, current_node=neighbor, accumulated_annotes=first_annote)\n",
    "\n",
    "    return all_paths\n",
    "\n",
    "# --- Example Usage ---\n",
    "if __name__ == \"__main__\":\n",
    "    # The example graph provided in the problem description\n",
    "    example_graph = graph_data\n",
    "    \n",
    "    \n",
    "    # Find all the paths in the graph\n",
    "    paths = find_all_paths(example_graph)\n",
    "\n",
    "    # Print the results\n",
    "    print(\"Found the following paths:\")\n",
    "    for path in paths:\n",
    "        print(path)"
   ]
  },
  {
   "cell_type": "code",
   "execution_count": 34,
   "id": "05848cf9",
   "metadata": {},
   "outputs": [
    {
     "data": {
      "text/plain": [
       "{318.85: [(505.13, 'W')],\n",
       " 523.26: [(580.39, 'G'), (637.39, 'N')],\n",
       " 580.39: [(637.39, 'G')],\n",
       " 690.36: [(747.43, 'G'), (804.37, 'N')],\n",
       " 747.43: [(804.37, 'G')],\n",
       " 822.35: [(1008.58, 'W')]}"
      ]
     },
     "execution_count": 34,
     "metadata": {},
     "output_type": "execute_result"
    }
   ],
   "source": [
    "graph_data"
   ]
  },
  {
   "cell_type": "code",
   "execution_count": null,
   "id": "a57aaa18",
   "metadata": {},
   "outputs": [],
   "source": []
  }
 ],
 "metadata": {
  "kernelspec": {
   "display_name": "2d_spec",
   "language": "python",
   "name": "python3"
  },
  "language_info": {
   "codemirror_mode": {
    "name": "ipython",
    "version": 3
   },
   "file_extension": ".py",
   "mimetype": "text/x-python",
   "name": "python",
   "nbconvert_exporter": "python",
   "pygments_lexer": "ipython3",
   "version": "3.10.18"
  }
 },
 "nbformat": 4,
 "nbformat_minor": 5
}
